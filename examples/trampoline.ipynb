{
 "cells": [
  {
   "cell_type": "code",
   "execution_count": null,
   "id": "8a14ae57-5fe0-45b2-a17b-2b82620aac19",
   "metadata": {},
   "outputs": [],
   "source": [
    "from frontend import App\n",
    "\n",
    "app = App(\"trampoline\").clear()\n",
    "\n",
    "V, F = app.mesh.square(res=128)\n",
    "app.asset.add.tri(\"sheet\", V, F)\n",
    "\n",
    "V, F, T = app.mesh.preset(\"armadillo\").decimate(30000).tetrahedralize().normalize()\n",
    "app.asset.add.tet(\"armadillo\", V, F, T)\n",
    "\n",
    "scene = app.scene.create(\"drop-vel-5\")\n",
    "\n",
    "sheet = scene.add(\"sheet\").direction([1,0,0],[0,1,0]).rotate(90,\"x\")\n",
    "sheet.pin(sheet.grab([-1,0,0])+sheet.grab([1,0,0]))\n",
    "\n",
    "armadillo = scene.add(\"armadillo\").scale(0.75).rotate(180,\"y\")\n",
    "armadillo.at(0,1,0).velocity(0,-5,0)\n",
    "\n",
    "fixed = scene.build().report()\n",
    "fixed.preview();"
   ]
  },
  {
   "cell_type": "code",
   "execution_count": null,
   "id": "379074d4-f4fc-46c1-b169-3b126126aae1",
   "metadata": {},
   "outputs": [],
   "source": [
    "param = app.session.param()\n",
    "param.set(\"strain-limit-eps\", 0.005).set(\"strain-limit-tau\", 0.005)\n",
    "param.set(\"area-density\", 1e3).set(\"volume-density\", 6e3)\n",
    "param.set(\"area-young-mod\", 10000.0)\n",
    "param.set(\"bend\", 1.0)\n",
    "param.set(\"frames\", 200)\n",
    "\n",
    "session = app.session.create(\"drop\").init(fixed)\n",
    "session.start(param).preview();\n",
    "session.stream();"
   ]
  }
 ],
 "metadata": {
  "kernelspec": {
   "display_name": "Python 3 (ipykernel)",
   "language": "python",
   "name": "python3"
  },
  "language_info": {
   "codemirror_mode": {
    "name": "ipython",
    "version": 3
   },
   "file_extension": ".py",
   "mimetype": "text/x-python",
   "name": "python",
   "nbconvert_exporter": "python",
   "pygments_lexer": "ipython3",
   "version": "3.10.12"
  }
 },
 "nbformat": 4,
 "nbformat_minor": 5
}
