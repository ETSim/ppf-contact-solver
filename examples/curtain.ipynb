{
 "cells": [
  {
   "cell_type": "code",
   "execution_count": null,
   "id": "45533d52-ad7e-4c0d-b483-fc1e63148f99",
   "metadata": {},
   "outputs": [],
   "source": [
    "from frontend import App\n",
    "\n",
    "app = App(\"curtain\", renew=True)\n",
    "\n",
    "V, F = app.mesh.square(res=64,ex=[0,0,1],ey=[0,1,0])\n",
    "app.asset.add.tri(\"sheet\", V, F)\n",
    "\n",
    "V, F = app.mesh.icosphere(r=0.5, subdiv_count=4)\n",
    "app.asset.add.tri(\"sphere\", V, F)\n",
    "\n",
    "scene = app.scene.create(\"undulate\")\n",
    "\n",
    "space = 0.25\n",
    "for i in range(15):\n",
    "    obj = scene.add(\"sheet\")\n",
    "    obj.at(i * space, 0, 0)\n",
    "    obj.direction([0,1,0],[0,0,1])\n",
    "    obj.pin(obj.grab([0, 1, 0]))\n",
    "\n",
    "scene.add(\"sphere\").at(-1, 0, 0).pin().move_by([8,0,0],5)\n",
    "\n",
    "fixed = scene.build().report()\n",
    "fixed.preview();"
   ]
  },
  {
   "cell_type": "code",
   "execution_count": null,
   "id": "cf30d202-48ac-4c37-b896-cbcf76432c76",
   "metadata": {},
   "outputs": [],
   "source": [
    "param = app.session.param()\n",
    "param.set(\"friction\", 0.0)\n",
    "param.set(\"dt\", 0.01)\n",
    "param.set(\"min-newton-steps\", 8)\n",
    "\n",
    "session = app.session.create(\"dt-001-newton-8-curtain\").init(fixed)\n",
    "session.start(param).preview();\n",
    "session.stream();"
   ]
  },
  {
   "cell_type": "code",
   "execution_count": null,
   "id": "2aa65b45-4226-40cd-8e57-febbb11f6fe6",
   "metadata": {},
   "outputs": [],
   "source": [
    "# run this cell after sufficnt frames are simulated\n",
    "session.animate();"
   ]
  },
  {
   "cell_type": "code",
   "execution_count": null,
   "id": "a728b4eb-916c-4f57-a485-c6c0e8e06c32",
   "metadata": {},
   "outputs": [],
   "source": [
    "# this is for CI\n",
    "assert session.finished()"
   ]
  },
  {
   "cell_type": "code",
   "execution_count": null,
   "id": "cb760aaa-cb65-476c-97f2-60891eda4b76",
   "metadata": {},
   "outputs": [],
   "source": [
    "# export all simulated frames\n",
    "session.export_animation(f\"export/{session.info.name}\")"
   ]
  }
 ],
 "metadata": {
  "kernelspec": {
   "display_name": "Python 3 (ipykernel)",
   "language": "python",
   "name": "python3"
  },
  "language_info": {
   "codemirror_mode": {
    "name": "ipython",
    "version": 3
   },
   "file_extension": ".py",
   "mimetype": "text/x-python",
   "name": "python",
   "nbconvert_exporter": "python",
   "pygments_lexer": "ipython3",
   "version": "3.10.12"
  }
 },
 "nbformat": 4,
 "nbformat_minor": 5
}
