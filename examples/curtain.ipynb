{
 "cells": [
  {
   "cell_type": "code",
   "execution_count": null,
   "id": "1341564f-3d1b-4674-b8c6-b6e4eb707764",
   "metadata": {},
   "outputs": [],
   "source": [
    "from frontend import App\n",
    "\n",
    "app = App.create(\"curtain\")\n",
    "\n",
    "V, F = app.mesh.square(res=64, ex=[0, 0, 1], ey=[0, 1, 0])\n",
    "app.asset.add.tri(\"sheet\", V, F)\n",
    "\n",
    "V, F = app.mesh.icosphere(r=0.5, subdiv_count=4)\n",
    "app.asset.add.tri(\"sphere\", V, F)\n",
    "\n",
    "V, F = app.mesh.icosphere(r=0.25, subdiv_count=3)\n",
    "app.asset.add.tri(\"small-sphere\", V, F)\n",
    "\n",
    "scene = app.scene.create(\"undulate\")\n",
    "\n",
    "space = 0.25\n",
    "for i in range(15):\n",
    "    obj = scene.add(\"sheet\")\n",
    "    obj.at(i * space, 0, 0)\n",
    "    obj.direction([0, 1, 0], [0, 0, 1])\n",
    "    obj.pin(obj.grab([0, 1, 0]))\n",
    "\n",
    "scene.add(\"sphere\").at(-1, 0, 0).jitter().pin().move_by([8, 0, 0], 5).interp(\"linear\")\n",
    "\n",
    "fixed = scene.build().report()\n",
    "fixed.preview()\n",
    "\n",
    "param = app.session.param()\n",
    "param.set(\"friction\", 0.0)"
   ]
  },
  {
   "cell_type": "code",
   "execution_count": null,
   "id": "cf30d202-48ac-4c37-b896-cbcf76432c76",
   "metadata": {},
   "outputs": [],
   "source": [
    "session = app.session.create(fixed)\n",
    "session.start(param).preview()\n",
    "session.stream()"
   ]
  },
  {
   "cell_type": "code",
   "execution_count": null,
   "id": "2aa65b45-4226-40cd-8e57-febbb11f6fe6",
   "metadata": {},
   "outputs": [],
   "source": [
    "# run this cell after sufficnt frames are simulated\n",
    "session.animate()"
   ]
  },
  {
   "cell_type": "code",
   "execution_count": null,
   "id": "cb760aaa-cb65-476c-97f2-60891eda4b76",
   "metadata": {},
   "outputs": [],
   "source": [
    "# export all simulated frames and make a zip file\n",
    "session.export.animation().zip()"
   ]
  },
  {
   "cell_type": "code",
   "execution_count": null,
   "id": "a728b4eb-916c-4f57-a485-c6c0e8e06c32",
   "metadata": {},
   "outputs": [],
   "source": [
    "# this is for CI\n",
    "assert session.finished()"
   ]
  },
  {
   "cell_type": "code",
   "execution_count": null,
   "id": "36d3e5cb-206d-4fd9-8a17-6ce87efda46c",
   "metadata": {},
   "outputs": [],
   "source": [
    "scene = app.scene.create(\"spin-curtain\")\n",
    "\n",
    "space = 0.25\n",
    "for i in range(5):\n",
    "    obj = scene.add(\"sheet\")\n",
    "    obj.at(i * space, 0, 0)\n",
    "    obj.direction([0, 1, 0], [0, 0, 1])\n",
    "    obj.pin(obj.grab([0, 1, 0]))\n",
    "\n",
    "(\n",
    "    scene.add(\"small-sphere\")\n",
    "    .at(-0.5, 0, 0.4)\n",
    "    .pin()\n",
    "    .move_by([2, 0, 0], 3)\n",
    "    .spin(axis=[1, 0, 0], angular_velocity=240, t_end=3)\n",
    ")\n",
    "\n",
    "fixed = scene.build().report()\n",
    "fixed.preview()"
   ]
  },
  {
   "cell_type": "code",
   "execution_count": null,
   "id": "794dfdaa-fd42-41e2-9cab-1fc87363d828",
   "metadata": {},
   "outputs": [],
   "source": [
    "session = app.session.create(fixed)\n",
    "session.start(param).preview()\n",
    "session.stream()"
   ]
  },
  {
   "cell_type": "code",
   "execution_count": null,
   "id": "ff31ceb7-aab7-40c7-a815-223d4c0f329d",
   "metadata": {},
   "outputs": [],
   "source": [
    "# run this cell after sufficnt frames are simulated\n",
    "session.animate()"
   ]
  },
  {
   "cell_type": "code",
   "execution_count": null,
   "id": "d0c96df5-31f5-41ea-9b71-b86f8a378ce8",
   "metadata": {},
   "outputs": [],
   "source": [
    "# export all simulated frames and make a zip file\n",
    "session.export.animation().zip()"
   ]
  },
  {
   "cell_type": "code",
   "execution_count": null,
   "id": "6f12f3fa-7936-441d-b033-bb0f826badce",
   "metadata": {},
   "outputs": [],
   "source": [
    "# this is for CI\n",
    "assert session.finished()"
   ]
  }
 ],
 "metadata": {
  "kernelspec": {
   "display_name": "Python 3 (ipykernel)",
   "language": "python",
   "name": "python3"
  },
  "language_info": {
   "codemirror_mode": {
    "name": "ipython",
    "version": 3
   },
   "file_extension": ".py",
   "mimetype": "text/x-python",
   "name": "python",
   "nbconvert_exporter": "python",
   "pygments_lexer": "ipython3",
   "version": "3.10.12"
  }
 },
 "nbformat": 4,
 "nbformat_minor": 5
}
