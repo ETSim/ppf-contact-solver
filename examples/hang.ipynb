{
 "cells": [
  {
   "cell_type": "code",
   "execution_count": null,
   "id": "874fc51d-c037-4706-9a02-8bb31a40cc2b",
   "metadata": {},
   "outputs": [],
   "source": [
    "from frontend import App\n",
    "\n",
    "app = App(\"hang\", renew=True)\n",
    "\n",
    "V, F = app.mesh.square(res=128,ex=[1,0,0],ey=[0,1,0])\n",
    "app.asset.add.tri(\"sheet\", V, F)\n",
    "\n",
    "scene = app.scene.create(\"hang-sheet\")\n",
    "\n",
    "sheet = scene.add(\"sheet\").direction([1,0,0],[0,1,0])\n",
    "sheet.pin(sheet.grab([1,1,0])+sheet.grab([-1,1,0]))\n",
    "\n",
    "fixed = scene.build().report()\n",
    "fixed.preview();"
   ]
  },
  {
   "cell_type": "code",
   "execution_count": null,
   "id": "0a588f32-af69-4aea-aa1c-aa2f057b0bfc",
   "metadata": {},
   "outputs": [],
   "source": [
    "param = app.session.param()\n",
    "param.set(\"strain-limit-eps\", 0.005).set(\"strain-limit-tau\", 0.005)\n",
    "param.set(\"frames\",200)\n",
    "param.dyn(\"gravity\").time(1).hold().time(1.1).change(9.8).time(2.0).change(-9.8)\n",
    "\n",
    "session = app.session.create(\"two-pins-hang\").init(fixed)\n",
    "session.start(param).preview();\n",
    "session.stream();"
   ]
  },
  {
   "cell_type": "code",
   "execution_count": null,
   "id": "45fa755d-8e22-41e3-8a91-0e9dcbd8ee14",
   "metadata": {},
   "outputs": [],
   "source": [
    "# run this cell after sufficnt frames are simulated\n",
    "session.animate();"
   ]
  },
  {
   "cell_type": "code",
   "execution_count": null,
   "id": "64ab11bd-a5d6-4651-b816-3d7fa2134ec7",
   "metadata": {},
   "outputs": [],
   "source": [
    "# export all simulated frames\n",
    "session.export_animation(f\"export/{session.info.name}\")"
   ]
  }
 ],
 "metadata": {
  "kernelspec": {
   "display_name": "Python 3 (ipykernel)",
   "language": "python",
   "name": "python3"
  },
  "language_info": {
   "codemirror_mode": {
    "name": "ipython",
    "version": 3
   },
   "file_extension": ".py",
   "mimetype": "text/x-python",
   "name": "python",
   "nbconvert_exporter": "python",
   "pygments_lexer": "ipython3",
   "version": "3.10.12"
  }
 },
 "nbformat": 4,
 "nbformat_minor": 5
}
