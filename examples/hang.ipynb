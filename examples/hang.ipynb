{
 "cells": [
  {
   "cell_type": "code",
   "execution_count": null,
   "id": "874fc51d-c037-4706-9a02-8bb31a40cc2b",
   "metadata": {},
   "outputs": [],
   "source": [
    "from frontend import App\n",
    "\n",
    "app = App.create(\"hang\")\n",
    "\n",
    "V, F = app.mesh.square(res=128,ex=[1,0,0],ey=[0,1,0])\n",
    "app.asset.add.tri(\"sheet\", V, F)\n",
    "\n",
    "scene = app.scene.create(\"hang-sheet\")\n",
    "\n",
    "sheet = scene.add(\"sheet\").direction([1,0,0],[0,1,0])\n",
    "sheet.pin(sheet.grab([1,1,0])+sheet.grab([-1,1,0]))\n",
    "\n",
    "fixed = scene.build().report()\n",
    "fixed.preview()"
   ]
  },
  {
   "cell_type": "code",
   "execution_count": null,
   "id": "0a588f32-af69-4aea-aa1c-aa2f057b0bfc",
   "metadata": {},
   "outputs": [],
   "source": [
    "import random\n",
    "jitter_time = 0.1 + 0.5 * random.random()\n",
    "\n",
    "param = app.session.param().set(\"dt\",0.001)\n",
    "param.set(\"strain-limit-eps\", 0.005).set(\"strain-limit-tau\", 0.005)\n",
    "param.set(\"frames\",200)\n",
    "param.dyn(\"gravity\").time(1).hold().time(1+jitter_time).change(9.8).time(2.0).change(-9.8)"
   ]
  },
  {
   "cell_type": "code",
   "execution_count": null,
   "id": "7284cf76-4110-41a0-88d2-6e028fe45aba",
   "metadata": {},
   "outputs": [],
   "source": [
    "session = app.session.create(\"two-pins-hang\").init(fixed)\n",
    "session.start(param).preview()\n",
    "session.stream()"
   ]
  },
  {
   "cell_type": "code",
   "execution_count": null,
   "id": "45fa755d-8e22-41e3-8a91-0e9dcbd8ee14",
   "metadata": {},
   "outputs": [],
   "source": [
    "# run this cell after sufficnt frames are simulated\n",
    "session.animate()"
   ]
  },
  {
   "cell_type": "code",
   "execution_count": null,
   "id": "a01ce8aa-e0bb-4f38-bb43-d148b3222194",
   "metadata": {},
   "outputs": [],
   "source": [
    "# export all simulated frames\n",
    "session.export.animation(f\"export/{scene.info.name}/{session.info.name}\")"
   ]
  },
  {
   "cell_type": "code",
   "execution_count": null,
   "id": "546a1545-2238-4512-b88c-27d4d0a0b2ec",
   "metadata": {},
   "outputs": [],
   "source": [
    "# this is for CI\n",
    "assert session.finished()"
   ]
  },
  {
   "cell_type": "code",
   "execution_count": null,
   "id": "64ab11bd-a5d6-4651-b816-3d7fa2134ec7",
   "metadata": {},
   "outputs": [],
   "source": [
    "# export all simulated frames\n",
    "session.export.animation(f\"export/{scene.info.name}/{session.info.name}\")"
   ]
  },
  {
   "cell_type": "code",
   "execution_count": null,
   "id": "b318af59-58be-4ad4-ae4b-63af01e225fe",
   "metadata": {},
   "outputs": [],
   "source": [
    "param.set(\"dt\",0.1).set(\"enable-retry\",True)\n",
    "\n",
    "session = app.session.create(\"two-pins-hang-dt-01\").init(fixed)\n",
    "session.start(param).preview()\n",
    "session.stream()"
   ]
  },
  {
   "cell_type": "code",
   "execution_count": null,
   "id": "2887e9da-aa29-4468-9ace-62c93a7c25ef",
   "metadata": {},
   "outputs": [],
   "source": [
    "# run this cell after sufficnt frames are simulated\n",
    "session.animate()"
   ]
  },
  {
   "cell_type": "code",
   "execution_count": null,
   "id": "cdc2a796-8258-4172-9926-7d761b85a2ab",
   "metadata": {},
   "outputs": [],
   "source": [
    "# export all simulated frames\n",
    "session.export.animation(f\"export/{scene.info.name}/{session.info.name}\")"
   ]
  },
  {
   "cell_type": "code",
   "execution_count": null,
   "id": "9105a519-6aaa-4b59-9c5c-0bf96c081fc3",
   "metadata": {},
   "outputs": [],
   "source": [
    "# this is for CI\n",
    "assert session.finished()"
   ]
  }
 ],
 "metadata": {
  "kernelspec": {
   "display_name": "Python 3 (ipykernel)",
   "language": "python",
   "name": "python3"
  },
  "language_info": {
   "codemirror_mode": {
    "name": "ipython",
    "version": 3
   },
   "file_extension": ".py",
   "mimetype": "text/x-python",
   "name": "python",
   "nbconvert_exporter": "python",
   "pygments_lexer": "ipython3",
   "version": "3.10.12"
  }
 },
 "nbformat": 4,
 "nbformat_minor": 5
}
