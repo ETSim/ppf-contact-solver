{
 "cells": [
  {
   "cell_type": "code",
   "execution_count": null,
   "id": "874fc51d-c037-4706-9a02-8bb31a40cc2b",
   "metadata": {},
   "outputs": [],
   "source": [
    "from frontend import App\n",
    "\n",
    "app = App(\"hang\").clear()\n",
    "\n",
    "V, F = app.mesh.square(res=128)\n",
    "app.asset.add.tri(\"sheet\", V, F)\n",
    "\n",
    "scene = app.scene.create(\"hang-sheet\")\n",
    "\n",
    "sheet = scene.add(\"sheet\").direction([1,0,0],[0,1,0])\n",
    "sheet.pin(sheet.grab([1,1,0])+sheet.grab([-1,1,0]))\n",
    "\n",
    "fixed = scene.build().report()\n",
    "fixed.preview();"
   ]
  },
  {
   "cell_type": "code",
   "execution_count": null,
   "id": "0a588f32-af69-4aea-aa1c-aa2f057b0bfc",
   "metadata": {},
   "outputs": [],
   "source": [
    "param = app.session.param()\n",
    "param.set(\"strain-limit-eps\", 0.005).set(\"strain-limit-tau\", 0.005)\n",
    "param.set(\"dt\", 0.01).set(\"frames\",200)\n",
    "param.dyn(\"gravity\").time(1).hold().time(1.1).change(9.8).time(2.0).change(-9.8)\n",
    "\n",
    "session = app.session.create(\"hang-two-pins\").init(fixed)\n",
    "session.start(param).preview();\n",
    "session.stream();"
   ]
  }
 ],
 "metadata": {
  "kernelspec": {
   "display_name": "Python 3 (ipykernel)",
   "language": "python",
   "name": "python3"
  },
  "language_info": {
   "codemirror_mode": {
    "name": "ipython",
    "version": 3
   },
   "file_extension": ".py",
   "mimetype": "text/x-python",
   "name": "python",
   "nbconvert_exporter": "python",
   "pygments_lexer": "ipython3",
   "version": "3.10.12"
  }
 },
 "nbformat": 4,
 "nbformat_minor": 5
}
