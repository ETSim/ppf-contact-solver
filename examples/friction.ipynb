{
 "cells": [
  {
   "cell_type": "code",
   "execution_count": null,
   "id": "1845cfba-4cda-4917-905c-2991ada078b1",
   "metadata": {},
   "outputs": [],
   "source": [
    "from frontend import App\n",
    "import numpy as np\n",
    "\n",
    "app = App(\"friction\", renew=True)\n",
    "\n",
    "V, F, T = app.mesh.preset(\"armadillo\").decimate(15000).tetrahedralize().normalize()\n",
    "app.asset.add.tet(\"armadillo\", V, F, T)\n",
    "\n",
    "V, F = app.mesh.rectangle(res_x=33, width=15.0, height=3, ex=[1,0,0], ey=[0,0,1])\n",
    "app.asset.add.tri(\"slope\", V, F)\n",
    "\n",
    "scene = app.scene.create(\"friction\")\n",
    "armadillo = scene.add(\"armadillo\")\n",
    "armadillo.rotate(180,\"y\").rotate(-90,\"x\").rotate(-30,\"z\").at(-5,3,-0.25)\n",
    "\n",
    "deg = 180*np.arctan(0.5)/np.pi\n",
    "scene.add(\"slope\").rotate(-deg,\"z\").pin()\n",
    "\n",
    "fixed = scene.build().report()\n",
    "fixed.preview();"
   ]
  },
  {
   "cell_type": "code",
   "execution_count": null,
   "id": "17242000-e3a2-456a-a718-02c1b90e6bd8",
   "metadata": {},
   "outputs": [],
   "source": [
    "param = app.session.param()\n",
    "param.set(\"volume-poiss-rat\",0.49)\n",
    "param.set(\"dt\",0.01).set(\"min-newton-steps\",32);"
   ]
  },
  {
   "cell_type": "code",
   "execution_count": null,
   "id": "8910b401-1153-4744-9413-1987bddc05c0",
   "metadata": {},
   "outputs": [],
   "source": [
    "param.set(\"friction\",0.49).set(\"frames\",650);\n",
    "session_049 = app.session.create(\"armadillo-friction-049\").init(fixed)\n",
    "session_049.start(param).preview();\n",
    "session_049.stream();"
   ]
  },
  {
   "cell_type": "code",
   "execution_count": null,
   "id": "bb40f3a8-8539-4b64-9b1d-aa13c3461461",
   "metadata": {},
   "outputs": [],
   "source": [
    "session_049.animate();"
   ]
  },
  {
   "cell_type": "code",
   "execution_count": null,
   "id": "cbb5ebeb-2bb1-43a3-ab52-863ec39c4a05",
   "metadata": {},
   "outputs": [],
   "source": [
    "param.set(\"friction\",0.51).set(\"frames\",800);\n",
    "session_051 = app.session.create(\"armadillo-friction-051\").init(fixed)\n",
    "session_051.start(param).preview();\n",
    "session_051.stream();"
   ]
  },
  {
   "cell_type": "code",
   "execution_count": null,
   "id": "d70cac9b-43b9-4355-9426-6953dea667dd",
   "metadata": {},
   "outputs": [],
   "source": [
    "session_051.animate();"
   ]
  }
 ],
 "metadata": {
  "kernelspec": {
   "display_name": "Python 3 (ipykernel)",
   "language": "python",
   "name": "python3"
  },
  "language_info": {
   "codemirror_mode": {
    "name": "ipython",
    "version": 3
   },
   "file_extension": ".py",
   "mimetype": "text/x-python",
   "name": "python",
   "nbconvert_exporter": "python",
   "pygments_lexer": "ipython3",
   "version": "3.10.12"
  }
 },
 "nbformat": 4,
 "nbformat_minor": 5
}
