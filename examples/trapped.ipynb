{
 "cells": [
  {
   "cell_type": "code",
   "execution_count": null,
   "id": "57106fea-2057-4d39-a359-26e3ba067979",
   "metadata": {},
   "outputs": [],
   "source": [
    "from frontend import App\n",
    "\n",
    "app = App(\"trapped\", renew=True)\n",
    "\n",
    "V, F, T = app.mesh.preset(\"armadillo\").decimate(30000).tetrahedralize().normalize()\n",
    "app.asset.add.tet(\"armadillo\", V, F, T)\n",
    "\n",
    "scene = app.scene.create(\"sphere-trap\")\n",
    "\n",
    "scene.add.invisible.sphere([0,0,0],0.7).invert().radius(0.15,3).radius(100,4)\n",
    "scene.add(\"armadillo\").jitter().rotate(180,\"y\")\n",
    "\n",
    "fixed = scene.build().report()\n",
    "fixed.preview();"
   ]
  },
  {
   "cell_type": "code",
   "execution_count": null,
   "id": "51726a01-b265-459f-beb9-874cd44ad845",
   "metadata": {},
   "outputs": [],
   "source": [
    "param = app.session.param()\n",
    "param.set(\"gravity\", 0.0);\n",
    "param.set(\"dt\", 0.01);\n",
    "\n",
    "session = app.session.create(\"armadillo-trapped\").init(fixed)\n",
    "session.start(param).preview();\n",
    "session.stream();"
   ]
  },
  {
   "cell_type": "code",
   "execution_count": null,
   "id": "318a7f9c-efb6-400f-8a13-25a429e217cb",
   "metadata": {},
   "outputs": [],
   "source": [
    "# run this cell after sufficnt frames are simulated\n",
    "session.animate();"
   ]
  },
  {
   "cell_type": "code",
   "execution_count": null,
   "id": "fdeab632-6f3d-428f-8057-8b796b3ce6a4",
   "metadata": {},
   "outputs": [],
   "source": [
    "# this is for CI\n",
    "assert session.finished()"
   ]
  },
  {
   "cell_type": "code",
   "execution_count": null,
   "id": "c8883a0d-1f07-4307-995a-897c1435dded",
   "metadata": {},
   "outputs": [],
   "source": [
    "# export all simulated frames\n",
    "session.export.animation(f\"export/{scene.info.name}/{session.info.name}\")"
   ]
  }
 ],
 "metadata": {
  "kernelspec": {
   "display_name": "Python 3 (ipykernel)",
   "language": "python",
   "name": "python3"
  },
  "language_info": {
   "codemirror_mode": {
    "name": "ipython",
    "version": 3
   },
   "file_extension": ".py",
   "mimetype": "text/x-python",
   "name": "python",
   "nbconvert_exporter": "python",
   "pygments_lexer": "ipython3",
   "version": "3.10.12"
  }
 },
 "nbformat": 4,
 "nbformat_minor": 5
}
