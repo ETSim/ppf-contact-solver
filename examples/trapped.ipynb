{
 "cells": [
  {
   "cell_type": "code",
   "execution_count": null,
   "id": "57106fea-2057-4d39-a359-26e3ba067979",
   "metadata": {},
   "outputs": [],
   "source": [
    "from frontend import App\n",
    "\n",
    "app = App(\"trapped\").clear()\n",
    "\n",
    "V, F, T = app.mesh.preset(\"armadillo\").decimate(30000).tetrahedralize().normalize()\n",
    "app.asset.add.tet(\"armadillo\", V, F, T)\n",
    "\n",
    "scene = app.scene.create(\"sphere-trap\")\n",
    "\n",
    "scene.add_invisible_sphere([0,0,0],0.7).invert().radius(0.15,3).radius(100,4)\n",
    "scene.add(\"armadillo\").rotate(180,\"y\")\n",
    "\n",
    "fixed = scene.build().report()\n",
    "fixed.preview();"
   ]
  },
  {
   "cell_type": "code",
   "execution_count": null,
   "id": "51726a01-b265-459f-beb9-874cd44ad845",
   "metadata": {},
   "outputs": [],
   "source": [
    "param = app.session.param()\n",
    "param.set(\"gravity\", 0.0)\n",
    "param.set(\"dt\", 0.01)\n",
    "\n",
    "session = app.session.create(\"armadillo\").init(fixed)\n",
    "session.start(param).preview();\n",
    "session.stream();"
   ]
  }
 ],
 "metadata": {
  "kernelspec": {
   "display_name": "Python 3 (ipykernel)",
   "language": "python",
   "name": "python3"
  },
  "language_info": {
   "codemirror_mode": {
    "name": "ipython",
    "version": 3
   },
   "file_extension": ".py",
   "mimetype": "text/x-python",
   "name": "python",
   "nbconvert_exporter": "python",
   "pygments_lexer": "ipython3",
   "version": "3.10.12"
  }
 },
 "nbformat": 4,
 "nbformat_minor": 5
}
