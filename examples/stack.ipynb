{
 "cells": [
  {
   "cell_type": "code",
   "execution_count": null,
   "id": "b187458e-24ce-4d33-8fad-ddd1c248499c",
   "metadata": {},
   "outputs": [],
   "source": [
    "from frontend import App\n",
    "\n",
    "app = App(\"stack\").clear()\n",
    "\n",
    "V, F = app.mesh.square(res=128)\n",
    "app.asset.add.tri(\"sheet\", V, F)\n",
    "\n",
    "V, F, T = app.mesh.icosphere(r=0.25, subdiv_count=4).tetrahedralize()\n",
    "app.asset.add.tet(\"sphere\", V, F, T)\n",
    "\n",
    "scene = app.scene.create(\"ten-sheets\")\n",
    "scene.add_invisible_wall([0,0,0],[0,1,0])\n",
    "\n",
    "n, space = 10, 0.05\n",
    "for i in range(n):\n",
    "    y = (i + 1) * space\n",
    "    deg = i * 90 / n\n",
    "    obj = scene.add(\"sheet\").direction([1,0,0],[0,1,0])\n",
    "    obj.at(0, y, 0).rotate(90,\"x\").rotate(deg,\"y\")\n",
    "\n",
    "scene.add(\"sphere\").at(0,1,0).velocity(0,-5,0)\n",
    "\n",
    "fixed = scene.build().report()\n",
    "fixed.preview();"
   ]
  },
  {
   "cell_type": "code",
   "execution_count": null,
   "id": "6f642706-f9b8-44b6-8886-3da5006df6e6",
   "metadata": {},
   "outputs": [],
   "source": [
    "param = app.session.param()\n",
    "param.set('frames', 600)\n",
    "param.set('bend', 2.5)\n",
    "param.set('volume-density', 50000)\n",
    "\n",
    "session = app.session.create(\"impact-1\").init(fixed)\n",
    "session.start(param).preview();\n",
    "session.stream();"
   ]
  }
 ],
 "metadata": {
  "kernelspec": {
   "display_name": "Python 3 (ipykernel)",
   "language": "python",
   "name": "python3"
  },
  "language_info": {
   "codemirror_mode": {
    "name": "ipython",
    "version": 3
   },
   "file_extension": ".py",
   "mimetype": "text/x-python",
   "name": "python",
   "nbconvert_exporter": "python",
   "pygments_lexer": "ipython3",
   "version": "3.10.12"
  }
 },
 "nbformat": 4,
 "nbformat_minor": 5
}
