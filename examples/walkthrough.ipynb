{
 "cells": [
  {
   "cell_type": "code",
   "execution_count": null,
   "id": "7beca30c-0ee6-4f4a-b949-61687352364f",
   "metadata": {},
   "outputs": [],
   "source": [
    "from frontend import App\n",
    "\n",
    "app = App(\"walkthrough\").clear()"
   ]
  },
  {
   "cell_type": "code",
   "execution_count": null,
   "id": "8d78a0f7-60c8-4e0c-9a50-a87e443cba59",
   "metadata": {},
   "outputs": [],
   "source": [
    "import numpy as np\n",
    "\n",
    "N = 500\n",
    "pts = []\n",
    "for i in range(N):\n",
    "    t = 2.0 * np.pi * i / N\n",
    "    r = 0.85 * np.cos(10 * t) + 1\n",
    "    x, y = r * np.cos(t), r * np.sin(t)\n",
    "    pts.append([x, y])\n",
    "pts = np.array(pts)\n",
    "\n",
    "app.plot.create().curve(pts);"
   ]
  },
  {
   "cell_type": "code",
   "execution_count": null,
   "id": "3e85f5fc-1981-4eba-9b80-b2cd483b07d8",
   "metadata": {},
   "outputs": [],
   "source": [
    "vert, tri = app.mesh.create.tri(pts).triangulate()\n",
    "app.plot.create().tri(vert, tri);"
   ]
  },
  {
   "cell_type": "code",
   "execution_count": null,
   "id": "7b59c317-6ac9-4d38-b700-5049b5a70da2",
   "metadata": {},
   "outputs": [],
   "source": [
    "app.asset.clear()\n",
    "vert, tri, tet = app.mesh.preset(\"armadillo\").decimate(19000).tetrahedralize().normalize()\n",
    "app.asset.add.tet(\"armadillo-tet\", vert, tri, tet)\n",
    "app.plot.create().tet(vert, tet, shading={'flat': True});"
   ]
  },
  {
   "cell_type": "code",
   "execution_count": null,
   "id": "ba25226c-0f20-4d67-9c3a-1970ffa610f3",
   "metadata": {},
   "outputs": [],
   "source": [
    "import numpy as np\n",
    "\n",
    "scene = app.scene.select(\"sample-scene\")\n",
    "scene.clear()\n",
    "obj = scene.add(\"armadillo-tet\").rotate(30,\"x\").velocity(0.01,0,0)\n",
    "obj = scene.add(\"armadillo-tet\").rotate(180,\"x\").rotate(90,\"y\").rotate(45,\"z\").atop(obj,0.1).pin()\n",
    "obj = scene.add(\"armadillo-tet\").atop(obj,0.1)\n",
    "\n",
    "x = obj.vertex()\n",
    "obj.pin(np.where(x[:,0] < 0)[0]).move_by([0,1,0],60)\n",
    "\n",
    "fixed = scene.build()\n",
    "fixed.report()\n",
    "fixed.preview();"
   ]
  }
 ],
 "metadata": {
  "kernelspec": {
   "display_name": "Python 3 (ipykernel)",
   "language": "python",
   "name": "python3"
  },
  "language_info": {
   "codemirror_mode": {
    "name": "ipython",
    "version": 3
   },
   "file_extension": ".py",
   "mimetype": "text/x-python",
   "name": "python",
   "nbconvert_exporter": "python",
   "pygments_lexer": "ipython3",
   "version": "3.10.12"
  }
 },
 "nbformat": 4,
 "nbformat_minor": 5
}
