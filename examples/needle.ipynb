{
 "cells": [
  {
   "cell_type": "code",
   "execution_count": null,
   "id": "63f1d19d-48ee-499a-b2c3-dea19dbae0c3",
   "metadata": {},
   "outputs": [],
   "source": [
    "from frontend import App\n",
    "\n",
    "app = App(\"needle\").clear()\n",
    "\n",
    "V, F = app.mesh.square(res=129)\n",
    "app.asset.add.tri(\"sheet\", V, F)\n",
    "\n",
    "V, F = app.mesh.cone(height=5,n=24).subdivide(n=4)\n",
    "app.asset.add.tri(\"cone\", V, F)\n",
    "\n",
    "V, F, T = app.mesh.icosphere(r=0.25, subdiv_count=4).tetrahedralize()\n",
    "app.asset.add.tet(\"sphere\", V, F, T)\n",
    "\n",
    "scene = app.scene.create(\"smash-vel-5\")\n",
    "scene.add(\"cone\").scale(0.2).rotate(-90,\"x\").at(0,-1.25,0).pin()\n",
    "scene.add(\"sphere\").at(0,1,0).pull_pin().hold(1.0).unpin()\n",
    "\n",
    "n, space = 5, 0.05\n",
    "for i in range(n):\n",
    "    y = (i + 1) * space\n",
    "    deg = i * 90 / n\n",
    "    obj = scene.add(\"sheet\").direction([1,0,0],[0,1,0])\n",
    "    obj.at(0, y, 0).rotate(90,\"x\").rotate(deg,\"y\")\n",
    "\n",
    "fixed = scene.build().report()\n",
    "fixed.preview();"
   ]
  },
  {
   "cell_type": "code",
   "execution_count": null,
   "id": "7f0edf6e-76dd-44f5-8800-984784957f07",
   "metadata": {},
   "outputs": [],
   "source": [
    "session = app.session.create(\"sphere-needle\").init(fixed)\n",
    "param = app.session.param()\n",
    "param.set(\"frames\", 200)\n",
    "param.set(\"area-density\", 1e3).set(\"volume-density\", 1e5)\n",
    "\n",
    "session.start(param).preview();\n",
    "session.stream();"
   ]
  }
 ],
 "metadata": {
  "kernelspec": {
   "display_name": "Python 3 (ipykernel)",
   "language": "python",
   "name": "python3"
  },
  "language_info": {
   "codemirror_mode": {
    "name": "ipython",
    "version": 3
   },
   "file_extension": ".py",
   "mimetype": "text/x-python",
   "name": "python",
   "nbconvert_exporter": "python",
   "pygments_lexer": "ipython3",
   "version": "3.10.12"
  }
 },
 "nbformat": 4,
 "nbformat_minor": 5
}
