{
 "cells": [
  {
   "cell_type": "code",
   "execution_count": null,
   "id": "63f1d19d-48ee-499a-b2c3-dea19dbae0c3",
   "metadata": {},
   "outputs": [],
   "source": [
    "from frontend import App\n",
    "\n",
    "app = App(\"needle\", renew=True)\n",
    "\n",
    "V, F = app.mesh.square(res=129)\n",
    "app.asset.add.tri(\"sheet\", V, F)\n",
    "\n",
    "V, F = app.mesh.cone(height=5,n=5).subdivide(n=5)\n",
    "app.asset.add.tri(\"cone\", V, F)\n",
    "\n",
    "V, F, T = app.mesh.icosphere(r=0.25, subdiv_count=4).tetrahedralize()\n",
    "app.asset.add.tet(\"sphere\", V, F, T)\n",
    "\n",
    "scene = app.scene.create(\"smash-vel-5\")\n",
    "scene.add(\"cone\").scale(0.2).rotate(-90,\"x\").at(0,-1.25,0).pin()\n",
    "scene.add(\"sphere\").at(0,1,0).pull_pin().hold(1.0).unpin()\n",
    "\n",
    "n, space = 5, 0.05\n",
    "for i in range(n):\n",
    "    y = (i + 1) * space\n",
    "    deg = i * 90 / n\n",
    "    obj = scene.add(\"sheet\").direction([1,0,0],[0,1,0])\n",
    "    obj.at(0, y, 0).rotate(90,\"x\").rotate(deg,\"y\")\n",
    "\n",
    "fixed = scene.build().report()\n",
    "fixed.preview();"
   ]
  },
  {
   "cell_type": "code",
   "execution_count": null,
   "id": "7f0edf6e-76dd-44f5-8800-984784957f07",
   "metadata": {},
   "outputs": [],
   "source": [
    "session = app.session.create(\"sphere-needle\").init(fixed)\n",
    "param = app.session.param()\n",
    "param.set(\"frames\", 120);\n",
    "param.set(\"area-density\", 1e3).set(\"volume-density\", 1e5);\n",
    "\n",
    "session.start(param).preview();\n",
    "session.stream();"
   ]
  },
  {
   "cell_type": "code",
   "execution_count": null,
   "id": "495397b1-1cb4-45b1-af4d-eb56b44e415b",
   "metadata": {},
   "outputs": [],
   "source": [
    "# run this cell after sufficnt frames are simulated\n",
    "session.animate();"
   ]
  },
  {
   "cell_type": "code",
   "execution_count": null,
   "id": "9fee8e48-5783-4e2a-bc49-4069a3a45e80",
   "metadata": {},
   "outputs": [],
   "source": [
    "# this is for CI\n",
    "assert session.finished()"
   ]
  },
  {
   "cell_type": "code",
   "execution_count": null,
   "id": "f53f2f7a-f8e3-4e47-b643-9b3b27c551b6",
   "metadata": {},
   "outputs": [],
   "source": [
    "# export all simulated frames\n",
    "session.export.animation(f\"export/{scene.info.name}/{session.info.name}\")"
   ]
  }
 ],
 "metadata": {
  "kernelspec": {
   "display_name": "Python 3 (ipykernel)",
   "language": "python",
   "name": "python3"
  },
  "language_info": {
   "codemirror_mode": {
    "name": "ipython",
    "version": 3
   },
   "file_extension": ".py",
   "mimetype": "text/x-python",
   "name": "python",
   "nbconvert_exporter": "python",
   "pygments_lexer": "ipython3",
   "version": "3.10.12"
  }
 },
 "nbformat": 4,
 "nbformat_minor": 5
}
